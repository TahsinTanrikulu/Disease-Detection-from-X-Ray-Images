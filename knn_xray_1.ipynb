{
  "nbformat": 4,
  "nbformat_minor": 0,
  "metadata": {
    "colab": {
      "provenance": [],
      "gpuType": "T4"
    },
    "kernelspec": {
      "name": "python3",
      "display_name": "Python 3"
    },
    "language_info": {
      "name": "python"
    },
    "accelerator": "GPU"
  },
  "cells": [
    {
      "cell_type": "code",
      "execution_count": 2,
      "metadata": {
        "colab": {
          "base_uri": "https://localhost:8080/",
          "height": 0
        },
        "id": "omZDhcptzFJR",
        "outputId": "c6ef4a17-6107-4c32-9abd-6fedc60196f3"
      },
      "outputs": [
        {
          "output_type": "stream",
          "name": "stdout",
          "text": [
            "Mounted at /content/drive\n"
          ]
        }
      ],
      "source": [
        "from google.colab import drive\n",
        "drive.mount('/content/drive')"
      ]
    },
    {
      "cell_type": "code",
      "source": [
        "import zipfile\n",
        "import os\n",
        "\n",
        "zip_file_path = '/content/drive/MyDrive/chest_xray/chest_xray.zip'\n",
        "\n",
        "extract_path = '/content/drive/MyDrive'\n",
        "\n",
        "with zipfile.ZipFile(zip_file_path, 'r') as zip_ref:\n",
        "    zip_ref.extractall(extract_path)\n"
      ],
      "metadata": {
        "id": "e-AKJ3iaEuI-"
      },
      "execution_count": null,
      "outputs": []
    },
    {
      "cell_type": "code",
      "source": [
        "!cd /content/drive/MyDrive/chest_xray"
      ],
      "metadata": {
        "id": "VU9I2mjYB5rh"
      },
      "execution_count": 4,
      "outputs": []
    },
    {
      "cell_type": "code",
      "source": [
        "import cv2\n",
        "import numpy as np\n",
        "import matplotlib.pyplot as plt\n",
        "import os\n",
        "from sklearn.neighbors import KNeighborsClassifier\n",
        "from sklearn.metrics import accuracy_score, precision_score, recall_score\n",
        "from sklearn.preprocessing import binarize\n"
      ],
      "metadata": {
        "id": "_coNiDBn5MzI"
      },
      "execution_count": 3,
      "outputs": []
    },
    {
      "cell_type": "code",
      "source": [
        "# Gabor filtresi parametreleri\n",
        "ksize = 10 # Çekirdek boyutu\n",
        "sigma = 1.35 # Gauss fonksiyonunun standart sapması\n",
        "theta = np.pi   # Yönelim (0, pi)\n",
        "lambd = np.pi / 4 # Dalga boyu (frekans)\n",
        "gamma = 5.0  # Uzaysal en-boy oranı\n",
        "psi = 0  # Faz ofseti\n",
        "boyut = 64\n",
        "# Gabor çekirdeğini oluştur\n",
        "gabor_kernel = cv2.getGaborKernel((ksize, ksize), sigma, theta, lambd, gamma, psi,  ktype=cv2.CV_32F)\n",
        "\n",
        "X_train = []\n",
        "y_train = []\n",
        "\n",
        "X_test = []\n",
        "y_test = []"
      ],
      "metadata": {
        "id": "2wHwEto851oq"
      },
      "execution_count": 5,
      "outputs": []
    },
    {
      "cell_type": "code",
      "source": [
        "def X_y(klasor_adi,vector, disease):\n",
        "  if (klasor_adi == 'train'):\n",
        "    X_train.append(vector)\n",
        "    y_train.append(disease)\n",
        "  else:\n",
        "    X_test.append(vector)\n",
        "    y_test.append(disease)\n",
        "\n",
        "klasor_names = ['train', 'test']\n",
        "train_say=0\n",
        "\n",
        "for klasor_name in klasor_names:\n",
        "  klsr_path = os.path.join('/content/drive/MyDrive/chest_xray', klasor_name)\n",
        "  for foldername in os.listdir(klsr_path):\n",
        "    diseasepath = os.path.join(klsr_path, foldername)\n",
        "    for filename in os.listdir(diseasepath):\n",
        "      img_path = os.path.join(diseasepath, filename)\n",
        "      image = cv2.imread(img_path)\n",
        "\n",
        "      image = cv2.resize(image, (boyut,boyut))\n",
        "      image = cv2.cvtColor(image, cv2.COLOR_BGR2GRAY)\n",
        "\n",
        "      gabor_filtered_image = cv2.filter2D(image, cv2.CV_8UC3, gabor_kernel)\n",
        "      gabor_flat = gabor_filtered_image.flatten()\n",
        "\n",
        "      edges = cv2.Canny(image, 50, 50)\n",
        "      edge_flat = edges.flatten()\n",
        "\n",
        "      merged_vec = gabor_flat + edge_flat\n",
        "      if klasor_name == 'train':\n",
        "        train_say += 1\n",
        "      X_y(klasor_name, merged_vec, foldername)\n",
        "\n",
        "\n"
      ],
      "metadata": {
        "id": "cfLfHrGP6SWD"
      },
      "execution_count": 6,
      "outputs": []
    },
    {
      "cell_type": "code",
      "source": [
        "def predict_Knn(k, size, test_arr):\n",
        "\n",
        "  y_knn_predict = []\n",
        "  for test in test_arr:\n",
        "    pre = []\n",
        "    d_dict = {'covid': 0, 'normal': 0, 'pneumonia': 0}\n",
        "    for i in range(train_say):\n",
        "      top = 0\n",
        "      for j in range(len(test)):\n",
        "        top += abs(test[j] - X_train[i][j])\n",
        "      pre.append((top,y_train[i]))\n",
        "    pre.sort()\n",
        "    for idx in range(k):\n",
        "      d_dict[pre[idx][1]] += 1\n",
        "\n",
        "    max_pos_dis = 'covid'\n",
        "    for dis in d_dict:\n",
        "      if d_dict[dis] > d_dict[max_pos_dis]:\n",
        "        max_pos_dis = dis\n",
        "\n",
        "    y_knn_predict.append(max_pos_dis)\n",
        "\n",
        "  y_k_pred =  np.array(y_knn_predict)\n",
        "\n",
        "\n"
      ],
      "metadata": {
        "id": "s9NdkPirGoLX"
      },
      "execution_count": 7,
      "outputs": []
    },
    {
      "cell_type": "code",
      "source": [
        "X_train = np.array(X_train)\n",
        "y_train = np.array(y_train)\n",
        "\n",
        "X_test = np.array(X_test)\n",
        "y_test = np.array(y_test)\n"
      ],
      "metadata": {
        "id": "rARGg_yd6ASh"
      },
      "execution_count": 8,
      "outputs": []
    },
    {
      "cell_type": "code",
      "source": [
        "print(len(X_train[0]))\n",
        "print(len(X_test[0]))\n",
        "print(train_say)"
      ],
      "metadata": {
        "colab": {
          "base_uri": "https://localhost:8080/",
          "height": 0
        },
        "id": "MLWE2JIF82G1",
        "outputId": "5ef26329-6b66-4b81-a5f1-0cf38ac13d7e"
      },
      "execution_count": 9,
      "outputs": [
        {
          "output_type": "stream",
          "name": "stdout",
          "text": [
            "4096\n",
            "4096\n",
            "3000\n"
          ]
        }
      ]
    },
    {
      "cell_type": "code",
      "source": [
        "import tensorflow as tf"
      ],
      "metadata": {
        "id": "gWPm7MRAFwES"
      },
      "execution_count": 10,
      "outputs": []
    },
    {
      "cell_type": "code",
      "source": [
        "\n",
        "knn = KNeighborsClassifier(n_neighbors= 3, p=1)\n",
        "knn.fit(X_train, y_train)\n",
        "\n",
        "y_pred = knn.predict(X_test)\n",
        "print(y_pred)\n",
        "\n",
        "accuracy = accuracy_score(y_test, y_pred)\n",
        "print(accuracy)\n",
        "\n",
        "precision = precision_score(y_test, y_pred, average ='weighted')\n",
        "print(precision)\n",
        "\n",
        "recall = recall_score(y_test, y_pred, average = 'macro')\n",
        "print(recall)\n",
        "\n",
        "\n",
        "\"\"\"\n",
        "y_k_pred = []\n",
        "with tf.device('/gpu:0'):\n",
        "  predict_Knn(k=3, size=boyut, test_arr = X_test)\n",
        "\n",
        "print(y_k_pred)\n",
        "\n",
        "accuracy = accuracy_score(y_test, y_k_pred)\n",
        "print(accuracy)\n",
        "\"\"\""
      ],
      "metadata": {
        "id": "NpEIgOkYEKaw",
        "colab": {
          "base_uri": "https://localhost:8080/",
          "height": 869
        },
        "outputId": "69a65e0e-2ef9-413a-83bc-d47da7a6df28"
      },
      "execution_count": 16,
      "outputs": [
        {
          "output_type": "stream",
          "name": "stdout",
          "text": [
            "['pneumonia' 'pneumonia' 'pneumonia' 'pneumonia' 'pneumonia' 'pneumonia'\n",
            " 'pneumonia' 'covid' 'pneumonia' 'pneumonia' 'pneumonia' 'pneumonia'\n",
            " 'pneumonia' 'covid' 'pneumonia' 'pneumonia' 'covid' 'pneumonia'\n",
            " 'pneumonia' 'pneumonia' 'pneumonia' 'pneumonia' 'pneumonia' 'pneumonia'\n",
            " 'covid' 'pneumonia' 'pneumonia' 'covid' 'covid' 'covid' 'pneumonia'\n",
            " 'pneumonia' 'pneumonia' 'pneumonia' 'pneumonia' 'pneumonia' 'covid'\n",
            " 'covid' 'covid' 'pneumonia' 'pneumonia' 'covid' 'pneumonia' 'covid'\n",
            " 'pneumonia' 'pneumonia' 'covid' 'pneumonia' 'pneumonia' 'covid'\n",
            " 'pneumonia' 'covid' 'pneumonia' 'pneumonia' 'pneumonia' 'covid'\n",
            " 'pneumonia' 'pneumonia' 'pneumonia' 'pneumonia' 'pneumonia' 'pneumonia'\n",
            " 'pneumonia' 'pneumonia' 'pneumonia' 'pneumonia' 'pneumonia' 'pneumonia'\n",
            " 'pneumonia' 'pneumonia' 'pneumonia' 'pneumonia' 'pneumonia' 'pneumonia'\n",
            " 'pneumonia' 'pneumonia' 'pneumonia' 'pneumonia' 'pneumonia' 'pneumonia'\n",
            " 'covid' 'pneumonia' 'pneumonia' 'pneumonia' 'normal' 'pneumonia' 'covid'\n",
            " 'pneumonia' 'pneumonia' 'pneumonia' 'pneumonia' 'pneumonia' 'pneumonia'\n",
            " 'pneumonia' 'pneumonia' 'pneumonia' 'pneumonia' 'covid' 'pneumonia'\n",
            " 'pneumonia' 'covid' 'covid' 'covid' 'covid' 'covid' 'covid' 'covid'\n",
            " 'covid' 'covid' 'covid' 'covid' 'covid' 'covid' 'covid' 'covid' 'covid'\n",
            " 'covid' 'covid' 'covid' 'covid' 'covid' 'covid' 'covid' 'covid' 'covid'\n",
            " 'covid' 'covid' 'covid' 'covid' 'covid' 'covid' 'covid' 'covid' 'covid'\n",
            " 'covid' 'covid' 'covid' 'covid' 'covid' 'covid' 'covid' 'covid' 'covid'\n",
            " 'covid' 'covid' 'covid' 'covid' 'covid' 'covid' 'covid' 'covid' 'covid'\n",
            " 'covid' 'covid' 'covid' 'covid' 'pneumonia' 'covid' 'covid' 'covid'\n",
            " 'covid' 'covid' 'covid' 'covid' 'covid' 'covid' 'covid' 'covid' 'covid'\n",
            " 'covid' 'covid' 'covid' 'covid' 'covid' 'covid' 'covid' 'covid' 'covid'\n",
            " 'covid' 'covid' 'covid' 'covid' 'covid' 'covid' 'covid' 'covid' 'covid'\n",
            " 'covid' 'covid' 'covid' 'covid' 'covid' 'covid' 'covid' 'covid' 'covid'\n",
            " 'covid' 'covid' 'covid' 'covid' 'pneumonia' 'pneumonia' 'pneumonia'\n",
            " 'covid' 'pneumonia' 'pneumonia' 'pneumonia' 'pneumonia' 'pneumonia'\n",
            " 'pneumonia' 'pneumonia' 'pneumonia' 'pneumonia' 'pneumonia' 'pneumonia'\n",
            " 'pneumonia' 'pneumonia' 'pneumonia' 'pneumonia' 'pneumonia' 'pneumonia'\n",
            " 'pneumonia' 'pneumonia' 'pneumonia' 'pneumonia' 'covid' 'pneumonia'\n",
            " 'pneumonia' 'pneumonia' 'pneumonia' 'pneumonia' 'pneumonia' 'pneumonia'\n",
            " 'covid' 'pneumonia' 'pneumonia' 'pneumonia' 'pneumonia' 'pneumonia'\n",
            " 'pneumonia' 'pneumonia' 'pneumonia' 'pneumonia' 'pneumonia' 'pneumonia'\n",
            " 'pneumonia' 'pneumonia' 'pneumonia' 'pneumonia' 'pneumonia' 'pneumonia'\n",
            " 'pneumonia' 'pneumonia' 'pneumonia' 'pneumonia' 'pneumonia' 'pneumonia'\n",
            " 'pneumonia' 'pneumonia' 'pneumonia' 'pneumonia' 'pneumonia' 'pneumonia'\n",
            " 'pneumonia' 'covid' 'covid' 'pneumonia' 'pneumonia' 'pneumonia'\n",
            " 'pneumonia' 'pneumonia' 'pneumonia' 'covid' 'covid' 'pneumonia'\n",
            " 'pneumonia' 'covid' 'covid' 'pneumonia' 'covid' 'pneumonia' 'covid'\n",
            " 'covid' 'pneumonia' 'pneumonia' 'pneumonia' 'pneumonia' 'pneumonia'\n",
            " 'pneumonia' 'pneumonia' 'pneumonia' 'pneumonia' 'pneumonia' 'pneumonia'\n",
            " 'pneumonia' 'pneumonia' 'covid' 'pneumonia' 'pneumonia' 'pneumonia']\n",
            "0.6233333333333333\n",
            "0.7578607778989459\n",
            "0.6233333333333334\n"
          ]
        },
        {
          "output_type": "execute_result",
          "data": {
            "text/plain": [
              "\"\\ny_k_pred = []\\nwith tf.device('/gpu:0'):\\n  predict_Knn(k=3, size=boyut, test_arr = X_test)\\n\\nprint(y_k_pred)\\n\\naccuracy = accuracy_score(y_test, y_k_pred)\\nprint(accuracy)\\n\""
            ],
            "application/vnd.google.colaboratory.intrinsic+json": {
              "type": "string"
            }
          },
          "metadata": {},
          "execution_count": 16
        }
      ]
    }
  ]
}